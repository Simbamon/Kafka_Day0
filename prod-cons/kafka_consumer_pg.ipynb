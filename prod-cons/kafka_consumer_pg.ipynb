{
 "cells": [
  {
   "cell_type": "code",
   "execution_count": null,
   "metadata": {},
   "outputs": [],
   "source": [
    "from kafka import KafkaConsumer\n",
    "\n",
    "bootstrap_servers = ['localhost:29092']\n",
    "consumer = KafkaConsumer(bootstrap_servers=bootstrap_servers)\n",
    "consumer.topics()\n"
   ]
  },
  {
   "cell_type": "code",
   "execution_count": null,
   "metadata": {},
   "outputs": [],
   "source": [
    "import json\n",
    "bootstrap_servers = ['localhost:29092']\n",
    "topicName = 'source.public.factinternetsales_streaming'\n",
    "consumer = KafkaConsumer(topicName, auto_offset_reset='earliest', group_id='sales-group',\n",
    "                        bootstrap_servers=bootstrap_servers)\n",
    "\n",
    "for msg in consumer:\n",
    "    print(json.loads(msg.value))"
   ]
  }
 ],
 "metadata": {
  "kernelspec": {
   "display_name": "base",
   "language": "python",
   "name": "python3"
  },
  "language_info": {
   "codemirror_mode": {
    "name": "ipython",
    "version": 3
   },
   "file_extension": ".py",
   "mimetype": "text/x-python",
   "name": "python",
   "nbconvert_exporter": "python",
   "pygments_lexer": "ipython3",
   "version": "3.9.13"
  },
  "orig_nbformat": 4
 },
 "nbformat": 4,
 "nbformat_minor": 2
}
