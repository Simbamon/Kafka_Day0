{
 "cells": [
  {
   "cell_type": "code",
   "execution_count": 4,
   "metadata": {},
   "outputs": [
    {
     "name": "stdout",
     "output_type": "stream",
     "text": [
      "Collecting kafka-python\n",
      "  Downloading kafka_python-2.0.2-py2.py3-none-any.whl (246 kB)\n",
      "     -------------------------------------- 246.5/246.5 kB 3.8 MB/s eta 0:00:00\n",
      "Installing collected packages: kafka-python\n",
      "Successfully installed kafka-python-2.0.2\n",
      "Note: you may need to restart the kernel to use updated packages.\n"
     ]
    }
   ],
   "source": [
    "pip install kafka-python"
   ]
  },
  {
   "cell_type": "code",
   "execution_count": 5,
   "metadata": {},
   "outputs": [
    {
     "name": "stdout",
     "output_type": "stream",
     "text": [
      "Message sent\n"
     ]
    }
   ],
   "source": [
    "# Import KafkaProducer from Kafka library\n",
    "from kafka import KafkaProducer\n",
    "\n",
    "# Define server with port\n",
    "bootstrap_servers = ['localhost:29092']\n",
    "\n",
    "# Define topic name where the message will publish\n",
    "topicName = 'test'\n",
    "\n",
    "# Initialize producer variable\n",
    "producer = KafkaProducer(bootstrap_servers = bootstrap_servers)\n",
    "\n",
    "# Publish text in defined topic\n",
    "producer.send(topicName, b'First Message...')\n",
    "\n",
    "# Print message\n",
    "print(\"Message sent\")"
   ]
  }
 ],
 "metadata": {
  "kernelspec": {
   "display_name": "base",
   "language": "python",
   "name": "python3"
  },
  "language_info": {
   "codemirror_mode": {
    "name": "ipython",
    "version": 3
   },
   "file_extension": ".py",
   "mimetype": "text/x-python",
   "name": "python",
   "nbconvert_exporter": "python",
   "pygments_lexer": "ipython3",
   "version": "3.9.13"
  },
  "orig_nbformat": 4
 },
 "nbformat": 4,
 "nbformat_minor": 2
}
