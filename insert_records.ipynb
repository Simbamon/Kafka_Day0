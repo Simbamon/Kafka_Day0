{
 "cells": [
  {
   "cell_type": "code",
   "execution_count": null,
   "metadata": {},
   "outputs": [],
   "source": [
    "%pip install psycopg2"
   ]
  },
  {
   "cell_type": "code",
   "execution_count": null,
   "metadata": {},
   "outputs": [],
   "source": [
    "from sqlalchemy import create_engine\n",
    "import pandas as pd\n",
    "import time\n",
    "import os\n",
    "\n",
    "postgres_host = os.getenv(\"POSTGRES_HOST\")\n",
    "postgres_uid = os.getenv(\"POSTGRES_UID\")\n",
    "postgres_pwd = os.getenv(\"POSTGRES_PWD\")\n",
    "postgres_port = os.getenv(\"POSTGRES_PORT\")\n",
    "postgres_db = os.getenv(\"POSTGRES_DB\")\n",
    "\n",
    "engine = create_engine(f'postgresql://{postgres_uid}:{postgres_pwd}@{postgres_host}:{postgres_port}/{postgres_db}')"
   ]
  },
  {
   "cell_type": "code",
   "execution_count": null,
   "metadata": {},
   "outputs": [],
   "source": [
    "df = pd.read_sql('SELECT * FROM public.\"stg_FactInternetSales\"', engine)\n",
    "df = df[['ProductKey', 'CustomerKey', 'SalesTerritoryKey', 'SalesOrderNumber', 'TotalProductCost', 'SalesAmount']]\n",
    "df.head()"
   ]
  },
  {
   "cell_type": "code",
   "execution_count": null,
   "metadata": {},
   "outputs": [],
   "source": [
    "for index, row in df.head(50).iterrows():\n",
    "    mod = pd.DataFrame(row.to_frame().T)\n",
    "    mod.to_sql(f\"factinternetsales_streaming\", engine, if_exists='append', index=False)\n",
    "    print(\"Row Inserted \" + mod.SalesOrderNumber.astype(str) + ' ' + mod.SalesAmount.astype(str).astype(str))\n",
    "    time.sleep(3)"
   ]
  }
 ],
 "metadata": {
  "kernelspec": {
   "display_name": "base",
   "language": "python",
   "name": "python3"
  },
  "language_info": {
   "codemirror_mode": {
    "name": "ipython",
    "version": 3
   },
   "file_extension": ".py",
   "mimetype": "text/x-python",
   "name": "python",
   "nbconvert_exporter": "python",
   "pygments_lexer": "ipython3",
   "version": "3.9.13"
  },
  "orig_nbformat": 4
 },
 "nbformat": 4,
 "nbformat_minor": 2
}
